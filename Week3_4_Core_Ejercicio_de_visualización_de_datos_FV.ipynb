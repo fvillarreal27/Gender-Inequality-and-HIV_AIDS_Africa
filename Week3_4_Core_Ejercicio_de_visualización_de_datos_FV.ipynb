{
  "nbformat": 4,
  "nbformat_minor": 0,
  "metadata": {
    "colab": {
      "name": "Week3_4_Core_Ejercicio de visualización de datos_FV.ipynb",
      "provenance": [],
      "collapsed_sections": []
    },
    "kernelspec": {
      "name": "python3",
      "display_name": "Python 3"
    },
    "language_info": {
      "name": "python"
    }
  },
  "cells": [
    {
      "cell_type": "markdown",
      "source": [
        "#### **Ejercicio:** Ejercicio de visualización de datos\n",
        "\n",
        "**Elaborado por:** Fabian Villarreal Sosa\n",
        "\n",
        "Makeover Monday ofrece un reto semanal de recrear o mejorar visualizaciones de datos. ¡Tu tarea es elegir uno de las visualizaciones de datos para recrear o mejorar!\n",
        "\n",
        "https://www.makeovermonday.co.uk/\n",
        "\n",
        "Para hacer esto:\n",
        "\n",
        "1. Elegir un conjunto de datos de la Data Sets list. Puedes elegir un conjunto de datos reciente o uno del año anterior, ¡siempre y cuando te interese!\n",
        "https://www.makeovermonday.co.uk/data/data-sets-2020/\n",
        "\n",
        "2. Descarga los datos que elegiste.\n",
        "3. Usa Python para crear una visualización informativa y placentera a la vista usando los datos que seleccionaste.\n",
        "\n",
        "También necesitas **subir tu trabajo para esta tarea a GitHub**, ¡así todos pueden ver lo fabulosa que es la visualización que creaste!\n",
        "\n",
        "Para hacer esto:\n",
        "\n",
        "1. Crea un nuevo repositorio de GitHub con un nombre informativo para su visualización o datos. (Nota: aquí hay instrucciones de cómo hacerlo si no estás segur. Asegúrate de marcar la casilla «Inicie este repositorio con un README.»).\n",
        "2. Agrega tu código al repositorio GitHub que creaste. Puedes hacerlo en Google Colab seleccionando Archivo > «Guardar una Copia en GitHub».\n",
        "3. Edita el README para crear un resumen informativo de los ejercicios que explican el propósito de la tarea/visualización, los datos y qué muestra/dice la visualización que creaste. ¡También podrías querer incluir una imagen estática de tu visualización final en el README! (Nota: los README son archivos markdown. Aquí hay una hoja con soluciones de markdown syntax.) ¡Intenta hacerlo lo más informativo y profesional posible, ya que esto es lo primero que las personas verán cuando entren a tu repositorio GitHub!"
      ],
      "metadata": {
        "id": "E0r9kQht25aM"
      }
    },
    {
      "cell_type": "markdown",
      "source": [
        "### **Tema: 2021/W2: Gender Inequality in HIV Infections in Adolescents**\n",
        "\n",
        "https://data.world/makeovermonday/2021w2"
      ],
      "metadata": {
        "id": "bnEHcbF04UiO"
      }
    },
    {
      "cell_type": "code",
      "source": [
        "### Librerias\n",
        "import os\n",
        "import pandas as pd\n",
        "import numpy as np\n",
        "\n",
        "import matplotlib.pyplot as plt\n",
        "import seaborn as sns\n",
        "\n",
        "from google.colab import drive"
      ],
      "metadata": {
        "id": "aHo-2Ft1jfce"
      },
      "execution_count": 262,
      "outputs": []
    },
    {
      "cell_type": "code",
      "source": [
        "### Acceder a directorio en Google Drive\n",
        "drive.mount('/content/drive')"
      ],
      "metadata": {
        "colab": {
          "base_uri": "https://localhost:8080/"
        },
        "id": "Pl7Y2M0X6BB_",
        "outputId": "5b1c0c46-6036-4365-9502-fab8988c2eb3"
      },
      "execution_count": 263,
      "outputs": [
        {
          "output_type": "stream",
          "name": "stdout",
          "text": [
            "Drive already mounted at /content/drive; to attempt to forcibly remount, call drive.mount(\"/content/drive\", force_remount=True).\n"
          ]
        }
      ]
    },
    {
      "cell_type": "code",
      "source": [
        "### Determinar directorio\n",
        "os.chdir('/content/drive/MyDrive/Coding Dojo/Datos')\n",
        "os.getcwd()"
      ],
      "metadata": {
        "colab": {
          "base_uri": "https://localhost:8080/",
          "height": 36
        },
        "id": "xDmxVrTN6AJc",
        "outputId": "e07b706f-85aa-481c-9176-91beb46d3f0b"
      },
      "execution_count": 264,
      "outputs": [
        {
          "output_type": "execute_result",
          "data": {
            "application/vnd.google.colaboratory.intrinsic+json": {
              "type": "string"
            },
            "text/plain": [
              "'/content/drive/MyDrive/Coding Dojo/Datos'"
            ]
          },
          "metadata": {},
          "execution_count": 264
        }
      ]
    },
    {
      "cell_type": "code",
      "source": [
        "# Determinar cuál es la codificación de caracteres \n",
        "import chardet\n",
        "with open('Jan 2021 Data - Viz5 Gender Inequality and HIVAIDS.csv', 'rb') as rawdata:\n",
        "    result = chardet.detect(rawdata.read(100000))\n",
        "result"
      ],
      "metadata": {
        "colab": {
          "base_uri": "https://localhost:8080/"
        },
        "id": "GgpvRrku5RDN",
        "outputId": "240b48cd-f574-46a4-8fc2-00a34646d95b"
      },
      "execution_count": 265,
      "outputs": [
        {
          "output_type": "execute_result",
          "data": {
            "text/plain": [
              "{'confidence': 0.73, 'encoding': 'ISO-8859-1', 'language': ''}"
            ]
          },
          "metadata": {},
          "execution_count": 265
        }
      ]
    },
    {
      "cell_type": "code",
      "source": [
        "### Cargar los datos\n",
        "df=pd.read_csv('Jan 2021 Data - Viz5 Gender Inequality and HIVAIDS.csv', encoding='ISO-8859-1')\n",
        "df.head()"
      ],
      "metadata": {
        "colab": {
          "base_uri": "https://localhost:8080/",
          "height": 354
        },
        "id": "2lNhhAXX6GQx",
        "outputId": "5c4b6d25-d3f1-47b1-c2f5-2d901db395dc"
      },
      "execution_count": 266,
      "outputs": [
        {
          "output_type": "execute_result",
          "data": {
            "text/html": [
              "\n",
              "  <div id=\"df-75f078fc-24c1-4771-a44d-94242e5a0790\">\n",
              "    <div class=\"colab-df-container\">\n",
              "      <div>\n",
              "<style scoped>\n",
              "    .dataframe tbody tr th:only-of-type {\n",
              "        vertical-align: middle;\n",
              "    }\n",
              "\n",
              "    .dataframe tbody tr th {\n",
              "        vertical-align: top;\n",
              "    }\n",
              "\n",
              "    .dataframe thead th {\n",
              "        text-align: right;\n",
              "    }\n",
              "</style>\n",
              "<table border=\"1\" class=\"dataframe\">\n",
              "  <thead>\n",
              "    <tr style=\"text-align: right;\">\n",
              "      <th></th>\n",
              "      <th>Country</th>\n",
              "      <th>UNICEF Region</th>\n",
              "      <th>Year</th>\n",
              "      <th>Sex</th>\n",
              "      <th>Age</th>\n",
              "      <th>Estimated incidence rate of new HIV infection per 1 000 uninfected population</th>\n",
              "      <th>Estimated number of annual AIDS related deaths</th>\n",
              "      <th>Estimated number of annual new HIV infections</th>\n",
              "      <th>Estimated number of people living with HIV</th>\n",
              "      <th>Estimated rate of annual AIDS related deaths  per 100 000 population</th>\n",
              "    </tr>\n",
              "  </thead>\n",
              "  <tbody>\n",
              "    <tr>\n",
              "      <th>0</th>\n",
              "      <td>Angola</td>\n",
              "      <td>Eastern and Southern Africa</td>\n",
              "      <td>1990</td>\n",
              "      <td>Female</td>\n",
              "      <td>Age 10-19</td>\n",
              "      <td>0.64</td>\n",
              "      <td>100.0</td>\n",
              "      <td>500.0</td>\n",
              "      <td>860</td>\n",
              "      <td>0.36</td>\n",
              "    </tr>\n",
              "    <tr>\n",
              "      <th>1</th>\n",
              "      <td>Angola</td>\n",
              "      <td>Eastern and Southern Africa</td>\n",
              "      <td>1990</td>\n",
              "      <td>Male</td>\n",
              "      <td>Age 10-19</td>\n",
              "      <td>0.15</td>\n",
              "      <td>100.0</td>\n",
              "      <td>100.0</td>\n",
              "      <td>200</td>\n",
              "      <td>0.07</td>\n",
              "    </tr>\n",
              "    <tr>\n",
              "      <th>2</th>\n",
              "      <td>Angola</td>\n",
              "      <td>Eastern and Southern Africa</td>\n",
              "      <td>1991</td>\n",
              "      <td>Female</td>\n",
              "      <td>Age 10-19</td>\n",
              "      <td>0.75</td>\n",
              "      <td>100.0</td>\n",
              "      <td>500.0</td>\n",
              "      <td>1100</td>\n",
              "      <td>0.42</td>\n",
              "    </tr>\n",
              "    <tr>\n",
              "      <th>3</th>\n",
              "      <td>Angola</td>\n",
              "      <td>Eastern and Southern Africa</td>\n",
              "      <td>1991</td>\n",
              "      <td>Male</td>\n",
              "      <td>Age 10-19</td>\n",
              "      <td>0.17</td>\n",
              "      <td>100.0</td>\n",
              "      <td>200.0</td>\n",
              "      <td>500</td>\n",
              "      <td>0.14</td>\n",
              "    </tr>\n",
              "    <tr>\n",
              "      <th>4</th>\n",
              "      <td>Angola</td>\n",
              "      <td>Eastern and Southern Africa</td>\n",
              "      <td>1992</td>\n",
              "      <td>Female</td>\n",
              "      <td>Age 10-19</td>\n",
              "      <td>0.88</td>\n",
              "      <td>100.0</td>\n",
              "      <td>590.0</td>\n",
              "      <td>1300</td>\n",
              "      <td>0.54</td>\n",
              "    </tr>\n",
              "  </tbody>\n",
              "</table>\n",
              "</div>\n",
              "      <button class=\"colab-df-convert\" onclick=\"convertToInteractive('df-75f078fc-24c1-4771-a44d-94242e5a0790')\"\n",
              "              title=\"Convert this dataframe to an interactive table.\"\n",
              "              style=\"display:none;\">\n",
              "        \n",
              "  <svg xmlns=\"http://www.w3.org/2000/svg\" height=\"24px\"viewBox=\"0 0 24 24\"\n",
              "       width=\"24px\">\n",
              "    <path d=\"M0 0h24v24H0V0z\" fill=\"none\"/>\n",
              "    <path d=\"M18.56 5.44l.94 2.06.94-2.06 2.06-.94-2.06-.94-.94-2.06-.94 2.06-2.06.94zm-11 1L8.5 8.5l.94-2.06 2.06-.94-2.06-.94L8.5 2.5l-.94 2.06-2.06.94zm10 10l.94 2.06.94-2.06 2.06-.94-2.06-.94-.94-2.06-.94 2.06-2.06.94z\"/><path d=\"M17.41 7.96l-1.37-1.37c-.4-.4-.92-.59-1.43-.59-.52 0-1.04.2-1.43.59L10.3 9.45l-7.72 7.72c-.78.78-.78 2.05 0 2.83L4 21.41c.39.39.9.59 1.41.59.51 0 1.02-.2 1.41-.59l7.78-7.78 2.81-2.81c.8-.78.8-2.07 0-2.86zM5.41 20L4 18.59l7.72-7.72 1.47 1.35L5.41 20z\"/>\n",
              "  </svg>\n",
              "      </button>\n",
              "      \n",
              "  <style>\n",
              "    .colab-df-container {\n",
              "      display:flex;\n",
              "      flex-wrap:wrap;\n",
              "      gap: 12px;\n",
              "    }\n",
              "\n",
              "    .colab-df-convert {\n",
              "      background-color: #E8F0FE;\n",
              "      border: none;\n",
              "      border-radius: 50%;\n",
              "      cursor: pointer;\n",
              "      display: none;\n",
              "      fill: #1967D2;\n",
              "      height: 32px;\n",
              "      padding: 0 0 0 0;\n",
              "      width: 32px;\n",
              "    }\n",
              "\n",
              "    .colab-df-convert:hover {\n",
              "      background-color: #E2EBFA;\n",
              "      box-shadow: 0px 1px 2px rgba(60, 64, 67, 0.3), 0px 1px 3px 1px rgba(60, 64, 67, 0.15);\n",
              "      fill: #174EA6;\n",
              "    }\n",
              "\n",
              "    [theme=dark] .colab-df-convert {\n",
              "      background-color: #3B4455;\n",
              "      fill: #D2E3FC;\n",
              "    }\n",
              "\n",
              "    [theme=dark] .colab-df-convert:hover {\n",
              "      background-color: #434B5C;\n",
              "      box-shadow: 0px 1px 3px 1px rgba(0, 0, 0, 0.15);\n",
              "      filter: drop-shadow(0px 1px 2px rgba(0, 0, 0, 0.3));\n",
              "      fill: #FFFFFF;\n",
              "    }\n",
              "  </style>\n",
              "\n",
              "      <script>\n",
              "        const buttonEl =\n",
              "          document.querySelector('#df-75f078fc-24c1-4771-a44d-94242e5a0790 button.colab-df-convert');\n",
              "        buttonEl.style.display =\n",
              "          google.colab.kernel.accessAllowed ? 'block' : 'none';\n",
              "\n",
              "        async function convertToInteractive(key) {\n",
              "          const element = document.querySelector('#df-75f078fc-24c1-4771-a44d-94242e5a0790');\n",
              "          const dataTable =\n",
              "            await google.colab.kernel.invokeFunction('convertToInteractive',\n",
              "                                                     [key], {});\n",
              "          if (!dataTable) return;\n",
              "\n",
              "          const docLinkHtml = 'Like what you see? Visit the ' +\n",
              "            '<a target=\"_blank\" href=https://colab.research.google.com/notebooks/data_table.ipynb>data table notebook</a>'\n",
              "            + ' to learn more about interactive tables.';\n",
              "          element.innerHTML = '';\n",
              "          dataTable['output_type'] = 'display_data';\n",
              "          await google.colab.output.renderOutput(dataTable, element);\n",
              "          const docLink = document.createElement('div');\n",
              "          docLink.innerHTML = docLinkHtml;\n",
              "          element.appendChild(docLink);\n",
              "        }\n",
              "      </script>\n",
              "    </div>\n",
              "  </div>\n",
              "  "
            ],
            "text/plain": [
              "  Country  ... Estimated rate of annual AIDS related deaths  per 100 000 population \n",
              "0  Angola  ...                                               0.36                   \n",
              "1  Angola  ...                                               0.07                   \n",
              "2  Angola  ...                                               0.42                   \n",
              "3  Angola  ...                                               0.14                   \n",
              "4  Angola  ...                                               0.54                   \n",
              "\n",
              "[5 rows x 10 columns]"
            ]
          },
          "metadata": {},
          "execution_count": 266
        }
      ]
    },
    {
      "cell_type": "code",
      "source": [
        "### Ver grupos de la poblacion por rango de edad\n",
        "df['Age'].value_counts()"
      ],
      "metadata": {
        "colab": {
          "base_uri": "https://localhost:8080/"
        },
        "id": "y50fvH2IHbIN",
        "outputId": "4a1ec039-4946-4054-eb81-475ef1b90013"
      },
      "execution_count": 267,
      "outputs": [
        {
          "output_type": "execute_result",
          "data": {
            "text/plain": [
              "Age 10-19    2640\n",
              "Name: Age, dtype: int64"
            ]
          },
          "metadata": {},
          "execution_count": 267
        }
      ]
    },
    {
      "cell_type": "code",
      "source": [
        "### Estilo de los graficos\n",
        "sns.set_style('white')\n",
        "\n",
        "### Paleta de colores Excel\n",
        "my_palette=['#4472C4', '#ED7D31', '#A5A5A5', '#FFC000', '#5B9BD5', '#70AD47', '#264478', '#9E480E', '#636363', '#997300'] # Colores de Microsoft Excel\n",
        "sns.palplot(sns.color_palette(my_palette, 10))\n",
        "\n",
        "### Definir paleta\n",
        "sns.set_palette(my_palette)"
      ],
      "metadata": {
        "colab": {
          "base_uri": "https://localhost:8080/",
          "height": 85
        },
        "id": "WXhQELC0X3Y0",
        "outputId": "f57678f4-9807-4825-8bc9-0ee27dd87c5c"
      },
      "execution_count": 268,
      "outputs": [
        {
          "output_type": "display_data",
          "data": {
            "image/png": "[encoded data removed]",
            "text/plain": [
              "<Figure size 720x72 with 1 Axes>"
            ]
          },
          "metadata": {}
        }
      ]
    },
    {
      "cell_type": "code",
      "source": [
        "### Número estimado de muertes anuales relacionadas con el SIDA por año\n",
        "df1=df.groupby(['Year', 'Sex'])[['Estimated number of annual AIDS related deaths']].sum()\n",
        "df1=df1.reset_index() # Resetear indice\n",
        "df1.head()"
      ],
      "metadata": {
        "colab": {
          "base_uri": "https://localhost:8080/",
          "height": 206
        },
        "id": "a2ACyrzvg6Jy",
        "outputId": "a6a9edd6-4378-4367-fce8-379698b89bf2"
      },
      "execution_count": 269,
      "outputs": [
        {
          "output_type": "execute_result",
          "data": {
            "text/html": [
              "\n",
              "  <div id=\"df-be88ebc4-94a7-4514-a74f-c804a9bf1cbe\">\n",
              "    <div class=\"colab-df-container\">\n",
              "      <div>\n",
              "<style scoped>\n",
              "    .dataframe tbody tr th:only-of-type {\n",
              "        vertical-align: middle;\n",
              "    }\n",
              "\n",
              "    .dataframe tbody tr th {\n",
              "        vertical-align: top;\n",
              "    }\n",
              "\n",
              "    .dataframe thead th {\n",
              "        text-align: right;\n",
              "    }\n",
              "</style>\n",
              "<table border=\"1\" class=\"dataframe\">\n",
              "  <thead>\n",
              "    <tr style=\"text-align: right;\">\n",
              "      <th></th>\n",
              "      <th>Year</th>\n",
              "      <th>Sex</th>\n",
              "      <th>Estimated number of annual AIDS related deaths</th>\n",
              "    </tr>\n",
              "  </thead>\n",
              "  <tbody>\n",
              "    <tr>\n",
              "      <th>0</th>\n",
              "      <td>1990</td>\n",
              "      <td>Female</td>\n",
              "      <td>6000.0</td>\n",
              "    </tr>\n",
              "    <tr>\n",
              "      <th>1</th>\n",
              "      <td>1990</td>\n",
              "      <td>Male</td>\n",
              "      <td>4300.0</td>\n",
              "    </tr>\n",
              "    <tr>\n",
              "      <th>2</th>\n",
              "      <td>1991</td>\n",
              "      <td>Female</td>\n",
              "      <td>6100.0</td>\n",
              "    </tr>\n",
              "    <tr>\n",
              "      <th>3</th>\n",
              "      <td>1991</td>\n",
              "      <td>Male</td>\n",
              "      <td>4400.0</td>\n",
              "    </tr>\n",
              "    <tr>\n",
              "      <th>4</th>\n",
              "      <td>1992</td>\n",
              "      <td>Female</td>\n",
              "      <td>7400.0</td>\n",
              "    </tr>\n",
              "  </tbody>\n",
              "</table>\n",
              "</div>\n",
              "      <button class=\"colab-df-convert\" onclick=\"convertToInteractive('df-be88ebc4-94a7-4514-a74f-c804a9bf1cbe')\"\n",
              "              title=\"Convert this dataframe to an interactive table.\"\n",
              "              style=\"display:none;\">\n",
              "        \n",
              "  <svg xmlns=\"http://www.w3.org/2000/svg\" height=\"24px\"viewBox=\"0 0 24 24\"\n",
              "       width=\"24px\">\n",
              "    <path d=\"M0 0h24v24H0V0z\" fill=\"none\"/>\n",
              "    <path d=\"M18.56 5.44l.94 2.06.94-2.06 2.06-.94-2.06-.94-.94-2.06-.94 2.06-2.06.94zm-11 1L8.5 8.5l.94-2.06 2.06-.94-2.06-.94L8.5 2.5l-.94 2.06-2.06.94zm10 10l.94 2.06.94-2.06 2.06-.94-2.06-.94-.94-2.06-.94 2.06-2.06.94z\"/><path d=\"M17.41 7.96l-1.37-1.37c-.4-.4-.92-.59-1.43-.59-.52 0-1.04.2-1.43.59L10.3 9.45l-7.72 7.72c-.78.78-.78 2.05 0 2.83L4 21.41c.39.39.9.59 1.41.59.51 0 1.02-.2 1.41-.59l7.78-7.78 2.81-2.81c.8-.78.8-2.07 0-2.86zM5.41 20L4 18.59l7.72-7.72 1.47 1.35L5.41 20z\"/>\n",
              "  </svg>\n",
              "      </button>\n",
              "      \n",
              "  <style>\n",
              "    .colab-df-container {\n",
              "      display:flex;\n",
              "      flex-wrap:wrap;\n",
              "      gap: 12px;\n",
              "    }\n",
              "\n",
              "    .colab-df-convert {\n",
              "      background-color: #E8F0FE;\n",
              "      border: none;\n",
              "      border-radius: 50%;\n",
              "      cursor: pointer;\n",
              "      display: none;\n",
              "      fill: #1967D2;\n",
              "      height: 32px;\n",
              "      padding: 0 0 0 0;\n",
              "      width: 32px;\n",
              "    }\n",
              "\n",
              "    .colab-df-convert:hover {\n",
              "      background-color: #E2EBFA;\n",
              "      box-shadow: 0px 1px 2px rgba(60, 64, 67, 0.3), 0px 1px 3px 1px rgba(60, 64, 67, 0.15);\n",
              "      fill: #174EA6;\n",
              "    }\n",
              "\n",
              "    [theme=dark] .colab-df-convert {\n",
              "      background-color: #3B4455;\n",
              "      fill: #D2E3FC;\n",
              "    }\n",
              "\n",
              "    [theme=dark] .colab-df-convert:hover {\n",
              "      background-color: #434B5C;\n",
              "      box-shadow: 0px 1px 3px 1px rgba(0, 0, 0, 0.15);\n",
              "      filter: drop-shadow(0px 1px 2px rgba(0, 0, 0, 0.3));\n",
              "      fill: #FFFFFF;\n",
              "    }\n",
              "  </style>\n",
              "\n",
              "      <script>\n",
              "        const buttonEl =\n",
              "          document.querySelector('#df-be88ebc4-94a7-4514-a74f-c804a9bf1cbe button.colab-df-convert');\n",
              "        buttonEl.style.display =\n",
              "          google.colab.kernel.accessAllowed ? 'block' : 'none';\n",
              "\n",
              "        async function convertToInteractive(key) {\n",
              "          const element = document.querySelector('#df-be88ebc4-94a7-4514-a74f-c804a9bf1cbe');\n",
              "          const dataTable =\n",
              "            await google.colab.kernel.invokeFunction('convertToInteractive',\n",
              "                                                     [key], {});\n",
              "          if (!dataTable) return;\n",
              "\n",
              "          const docLinkHtml = 'Like what you see? Visit the ' +\n",
              "            '<a target=\"_blank\" href=https://colab.research.google.com/notebooks/data_table.ipynb>data table notebook</a>'\n",
              "            + ' to learn more about interactive tables.';\n",
              "          element.innerHTML = '';\n",
              "          dataTable['output_type'] = 'display_data';\n",
              "          await google.colab.output.renderOutput(dataTable, element);\n",
              "          const docLink = document.createElement('div');\n",
              "          docLink.innerHTML = docLinkHtml;\n",
              "          element.appendChild(docLink);\n",
              "        }\n",
              "      </script>\n",
              "    </div>\n",
              "  </div>\n",
              "  "
            ],
            "text/plain": [
              "   Year     Sex  Estimated number of annual AIDS related deaths\n",
              "0  1990  Female                                          6000.0\n",
              "1  1990    Male                                          4300.0\n",
              "2  1991  Female                                          6100.0\n",
              "3  1991    Male                                          4400.0\n",
              "4  1992  Female                                          7400.0"
            ]
          },
          "metadata": {},
          "execution_count": 269
        }
      ]
    },
    {
      "cell_type": "code",
      "source": [
        "### Ver: Número estimado de muertes anuales relacionadas con el SIDA\n",
        "plt.figure(figsize=(10, 6))\n",
        "p1=sns.lineplot(data=df1, \n",
        "                x='Year', y='Estimated number of annual AIDS related deaths', hue='Sex', marker='o')\n",
        "plt.title('Estimated number of annual AIDS related deaths \\n in Eastern and Southern Africa by Sex', fontsize=15, pad=20)\n",
        "plt.legend(title=None, \n",
        "           loc='upper center', \n",
        "           bbox_to_anchor=(0.5, -0.15), \n",
        "           ncol=2,\n",
        "           frameon=False)\n",
        "plt.ylabel('')\n",
        "plt.yticks(np.arange(0, max(df1['Estimated number of annual AIDS related deaths'])+1, 5000))\n",
        "plt.xlabel('') # labelpad=15\n",
        "plt.xticks(rotation=90)\n",
        "sns.despine(left=True, bottom=True)\n",
        "p1.set_yticklabels('{:,.0f}'.format(x) for x in p1.get_yticks());"
      ],
      "metadata": {
        "colab": {
          "base_uri": "https://localhost:8080/",
          "height": 480
        },
        "id": "Hlz6bWXThWlL",
        "outputId": "94d1c02c-9866-4d26-85ba-4b22efa622de"
      },
      "execution_count": 270,
      "outputs": [
        {
          "output_type": "display_data",
          "data": {
            "image/png": "[encoded data removed]",
            "text/plain": [
              "<Figure size 720x432 with 1 Axes>"
            ]
          },
          "metadata": {}
        }
      ]
    },
    {
      "cell_type": "code",
      "source": [
        "### Ver: Número estimado de muertes anuales relacionadas con el SIDA\n",
        "### Agregar relleno debajo de las curvas\n",
        "\n",
        "plt.figure(figsize=(10, 6))\n",
        "p1=sns.lineplot(data=df1, \n",
        "                x='Year', y='Estimated number of annual AIDS related deaths', hue='Sex', marker='o')\n",
        "plt.fill_between(x=df1['Year'].unique(), \n",
        "                 y1=df1[df1['Sex']=='Female']['Estimated number of annual AIDS related deaths'],\n",
        "                 y2=0,\n",
        "                 interpolate=True,\n",
        "                 color=my_palette[0],\n",
        "                 alpha=0.5)\n",
        "plt.fill_between(x=df1['Year'].unique(),\n",
        "                 y1=df1[df1['Sex']=='Male']['Estimated number of annual AIDS related deaths'],\n",
        "                 y2=0,\n",
        "                 interpolate=True,\n",
        "                 color=my_palette[1],\n",
        "                 alpha=0.5)\n",
        "plt.title('Estimated number of annual AIDS related deaths \\n in Eastern and Southern Africa by Sex', fontsize=15, pad=20)\n",
        "plt.legend(title=None, \n",
        "           loc='upper center', \n",
        "           bbox_to_anchor=(0.5, -0.15), \n",
        "           ncol=2,\n",
        "           frameon=False)\n",
        "plt.ylabel('')\n",
        "plt.yticks(np.arange(0, max(df1['Estimated number of annual AIDS related deaths'])+1, 5000))\n",
        "plt.xlabel('') # labelpad=15\n",
        "plt.xticks(rotation=90)\n",
        "sns.despine(left=True, bottom=True)\n",
        "p1.set_yticklabels('{:,.0f}'.format(x) for x in p1.get_yticks());\n",
        "\n",
        "# Guardar grafico\n",
        "plt.tight_layout()\n",
        "plt.savefig('/content/drive/MyDrive/Coding Dojo/Week3_Python for Data Visualization/Deberes/annual_AIDS_related_deaths.png', dpi=300) # Este metodo sirve para guardar, ver en la carpeta de guardado"
      ],
      "metadata": {
        "colab": {
          "base_uri": "https://localhost:8080/",
          "height": 431
        },
        "id": "swK04WHBs1ZF",
        "outputId": "f16a88bc-6c62-4c98-f7e6-27977b67fbdc"
      },
      "execution_count": 271,
      "outputs": [
        {
          "output_type": "display_data",
          "data": {
            "image/png": "[encoded data removed]",
            "text/plain": [
              "<Figure size 720x432 with 1 Axes>"
            ]
          },
          "metadata": {}
        }
      ]
    },
    {
      "cell_type": "code",
      "source": [
        "### Número estimado de personas que viven con el VIH por año\n",
        "df2=df.groupby(['Year', 'Sex'])[['Estimated number of people living with HIV']].sum()\n",
        "df2=df2.reset_index()\n",
        "df2.head()"
      ],
      "metadata": {
        "colab": {
          "base_uri": "https://localhost:8080/",
          "height": 206
        },
        "id": "zVahz9wS4CuA",
        "outputId": "9a23e510-42d2-4ea2-c170-ca6cd1e6eebf"
      },
      "execution_count": 272,
      "outputs": [
        {
          "output_type": "execute_result",
          "data": {
            "text/html": [
              "\n",
              "  <div id=\"df-9c410e05-698f-44cd-aa45-f9e333948eb6\">\n",
              "    <div class=\"colab-df-container\">\n",
              "      <div>\n",
              "<style scoped>\n",
              "    .dataframe tbody tr th:only-of-type {\n",
              "        vertical-align: middle;\n",
              "    }\n",
              "\n",
              "    .dataframe tbody tr th {\n",
              "        vertical-align: top;\n",
              "    }\n",
              "\n",
              "    .dataframe thead th {\n",
              "        text-align: right;\n",
              "    }\n",
              "</style>\n",
              "<table border=\"1\" class=\"dataframe\">\n",
              "  <thead>\n",
              "    <tr style=\"text-align: right;\">\n",
              "      <th></th>\n",
              "      <th>Year</th>\n",
              "      <th>Sex</th>\n",
              "      <th>Estimated number of people living with HIV</th>\n",
              "    </tr>\n",
              "  </thead>\n",
              "  <tbody>\n",
              "    <tr>\n",
              "      <th>0</th>\n",
              "      <td>1990</td>\n",
              "      <td>Female</td>\n",
              "      <td>349070</td>\n",
              "    </tr>\n",
              "    <tr>\n",
              "      <th>1</th>\n",
              "      <td>1990</td>\n",
              "      <td>Male</td>\n",
              "      <td>87240</td>\n",
              "    </tr>\n",
              "    <tr>\n",
              "      <th>2</th>\n",
              "      <td>1991</td>\n",
              "      <td>Female</td>\n",
              "      <td>414890</td>\n",
              "    </tr>\n",
              "    <tr>\n",
              "      <th>3</th>\n",
              "      <td>1991</td>\n",
              "      <td>Male</td>\n",
              "      <td>99680</td>\n",
              "    </tr>\n",
              "    <tr>\n",
              "      <th>4</th>\n",
              "      <td>1992</td>\n",
              "      <td>Female</td>\n",
              "      <td>478190</td>\n",
              "    </tr>\n",
              "  </tbody>\n",
              "</table>\n",
              "</div>\n",
              "      <button class=\"colab-df-convert\" onclick=\"convertToInteractive('df-9c410e05-698f-44cd-aa45-f9e333948eb6')\"\n",
              "              title=\"Convert this dataframe to an interactive table.\"\n",
              "              style=\"display:none;\">\n",
              "        \n",
              "  <svg xmlns=\"http://www.w3.org/2000/svg\" height=\"24px\"viewBox=\"0 0 24 24\"\n",
              "       width=\"24px\">\n",
              "    <path d=\"M0 0h24v24H0V0z\" fill=\"none\"/>\n",
              "    <path d=\"M18.56 5.44l.94 2.06.94-2.06 2.06-.94-2.06-.94-.94-2.06-.94 2.06-2.06.94zm-11 1L8.5 8.5l.94-2.06 2.06-.94-2.06-.94L8.5 2.5l-.94 2.06-2.06.94zm10 10l.94 2.06.94-2.06 2.06-.94-2.06-.94-.94-2.06-.94 2.06-2.06.94z\"/><path d=\"M17.41 7.96l-1.37-1.37c-.4-.4-.92-.59-1.43-.59-.52 0-1.04.2-1.43.59L10.3 9.45l-7.72 7.72c-.78.78-.78 2.05 0 2.83L4 21.41c.39.39.9.59 1.41.59.51 0 1.02-.2 1.41-.59l7.78-7.78 2.81-2.81c.8-.78.8-2.07 0-2.86zM5.41 20L4 18.59l7.72-7.72 1.47 1.35L5.41 20z\"/>\n",
              "  </svg>\n",
              "      </button>\n",
              "      \n",
              "  <style>\n",
              "    .colab-df-container {\n",
              "      display:flex;\n",
              "      flex-wrap:wrap;\n",
              "      gap: 12px;\n",
              "    }\n",
              "\n",
              "    .colab-df-convert {\n",
              "      background-color: #E8F0FE;\n",
              "      border: none;\n",
              "      border-radius: 50%;\n",
              "      cursor: pointer;\n",
              "      display: none;\n",
              "      fill: #1967D2;\n",
              "      height: 32px;\n",
              "      padding: 0 0 0 0;\n",
              "      width: 32px;\n",
              "    }\n",
              "\n",
              "    .colab-df-convert:hover {\n",
              "      background-color: #E2EBFA;\n",
              "      box-shadow: 0px 1px 2px rgba(60, 64, 67, 0.3), 0px 1px 3px 1px rgba(60, 64, 67, 0.15);\n",
              "      fill: #174EA6;\n",
              "    }\n",
              "\n",
              "    [theme=dark] .colab-df-convert {\n",
              "      background-color: #3B4455;\n",
              "      fill: #D2E3FC;\n",
              "    }\n",
              "\n",
              "    [theme=dark] .colab-df-convert:hover {\n",
              "      background-color: #434B5C;\n",
              "      box-shadow: 0px 1px 3px 1px rgba(0, 0, 0, 0.15);\n",
              "      filter: drop-shadow(0px 1px 2px rgba(0, 0, 0, 0.3));\n",
              "      fill: #FFFFFF;\n",
              "    }\n",
              "  </style>\n",
              "\n",
              "      <script>\n",
              "        const buttonEl =\n",
              "          document.querySelector('#df-9c410e05-698f-44cd-aa45-f9e333948eb6 button.colab-df-convert');\n",
              "        buttonEl.style.display =\n",
              "          google.colab.kernel.accessAllowed ? 'block' : 'none';\n",
              "\n",
              "        async function convertToInteractive(key) {\n",
              "          const element = document.querySelector('#df-9c410e05-698f-44cd-aa45-f9e333948eb6');\n",
              "          const dataTable =\n",
              "            await google.colab.kernel.invokeFunction('convertToInteractive',\n",
              "                                                     [key], {});\n",
              "          if (!dataTable) return;\n",
              "\n",
              "          const docLinkHtml = 'Like what you see? Visit the ' +\n",
              "            '<a target=\"_blank\" href=https://colab.research.google.com/notebooks/data_table.ipynb>data table notebook</a>'\n",
              "            + ' to learn more about interactive tables.';\n",
              "          element.innerHTML = '';\n",
              "          dataTable['output_type'] = 'display_data';\n",
              "          await google.colab.output.renderOutput(dataTable, element);\n",
              "          const docLink = document.createElement('div');\n",
              "          docLink.innerHTML = docLinkHtml;\n",
              "          element.appendChild(docLink);\n",
              "        }\n",
              "      </script>\n",
              "    </div>\n",
              "  </div>\n",
              "  "
            ],
            "text/plain": [
              "   Year     Sex  Estimated number of people living with HIV\n",
              "0  1990  Female                                      349070\n",
              "1  1990    Male                                       87240\n",
              "2  1991  Female                                      414890\n",
              "3  1991    Male                                       99680\n",
              "4  1992  Female                                      478190"
            ]
          },
          "metadata": {},
          "execution_count": 272
        }
      ]
    },
    {
      "cell_type": "code",
      "source": [
        "### Ver: Número estimado de personas que viven con el VIH \n",
        "\n",
        "plt.figure(figsize=(10, 6))\n",
        "p2=sns.lineplot(data=df2,\n",
        "                x='Year', y='Estimated number of people living with HIV', hue='Sex', marker='X')\n",
        "plt.fill_between(x=df2['Year'].unique(),\n",
        "                 y1=df2[df2['Sex']=='Female']['Estimated number of people living with HIV'],\n",
        "                 y2=0,\n",
        "                 interpolate=True,\n",
        "                 color=my_palette[0],\n",
        "                 alpha=0.5)\n",
        "plt.fill_between(x=df2['Year'].unique(),\n",
        "                 y1=df2[df2['Sex']=='Male']['Estimated number of people living with HIV'],\n",
        "                 y2=0,\n",
        "                 interpolate=True,\n",
        "                 color=my_palette[1],\n",
        "                 alpha=0.5)\n",
        "plt.title('Estimated number of people living with HIV \\n in Eastern and Southern Africa by Sex', fontsize=15, pad=20)\n",
        "plt.legend(title=None,\n",
        "           loc='upper center', \n",
        "           bbox_to_anchor=(0.5, -0.15),\n",
        "           ncol=2,\n",
        "           frameon=False)\n",
        "plt.ylabel('')\n",
        "plt.yticks(np.arange(0, max(df2['Estimated number of people living with HIV'])+1, 100000))\n",
        "plt.xlabel('')\n",
        "plt.xticks(rotation=90)\n",
        "sns.despine(left=True, bottom=True)\n",
        "p2.set_yticklabels('{:,.0f}'.format(x) for x in p2.get_yticks());\n",
        "\n",
        "# Guardar grafico\n",
        "plt.tight_layout()\n",
        "plt.savefig('/content/drive/MyDrive/Coding Dojo/Week3_Python for Data Visualization/Deberes/people_living_with_HIV.png', dpi=300) # Este metodo sirve para guardar, ver en la carpeta de guardado"
      ],
      "metadata": {
        "colab": {
          "base_uri": "https://localhost:8080/",
          "height": 431
        },
        "id": "57lFo2HJuwVU",
        "outputId": "a92b90fd-0bd1-45eb-9c14-b08d0556aaa9"
      },
      "execution_count": 273,
      "outputs": [
        {
          "output_type": "display_data",
          "data": {
            "image/png": "[encoded data removed]",
            "text/plain": [
              "<Figure size 720x432 with 1 Axes>"
            ]
          },
          "metadata": {}
        }
      ]
    },
    {
      "cell_type": "code",
      "source": [
        ""
      ],
      "metadata": {
        "id": "Fns1dcgT6WY3"
      },
      "execution_count": null,
      "outputs": []
    }
  ]
}